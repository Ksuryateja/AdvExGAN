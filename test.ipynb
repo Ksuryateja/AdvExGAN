{
 "cells": [
  {
   "cell_type": "code",
   "execution_count": null,
   "metadata": {
    "colab": {},
    "colab_type": "code",
    "id": "gJTlckKspko9"
   },
   "outputs": [],
   "source": [
    "import time\n",
    "import torch\n",
    "import torchvision\n",
    "import torchvision.utils as vutils\n",
    "import torchvision.transforms as transforms\n",
    "from torch.autograd import Variable\n",
    "import torch.nn as nn\n",
    "import torch.nn.functional as F\n",
    "import torch.optim as optim\n",
    "import torch.backends.cudnn as cudnn\n",
    "from models.vgg import VGG\n",
    "from models.lenet import LeNet\n",
    "import models.alexnet as alexnet\n",
    "import models.googlenet as googlenet\n",
    "import attacks\n",
    "import numpy as np\n",
    "import pandas as pd\n",
    "from collections import OrderedDict\n",
    "import os"
   ]
  },
  {
   "cell_type": "code",
   "execution_count": null,
   "metadata": {
    "colab": {},
    "colab_type": "code",
    "id": "QTWaqd-3kB9G"
   },
   "outputs": [],
   "source": [
    "i = 0"
   ]
  },
  {
   "cell_type": "code",
   "execution_count": null,
   "metadata": {
    "colab": {},
    "colab_type": "code",
    "id": "XJBInJbNp17O"
   },
   "outputs": [],
   "source": [
    "use_cuda = torch.cuda.is_available()"
   ]
  },
  {
   "cell_type": "code",
   "execution_count": null,
   "metadata": {},
   "outputs": [],
   "source": [
    "def load_cifar():\n",
    "\tprint('==> Preparing data..')\n",
    "\ttransform_train = transforms.Compose([\n",
    "    \ttransforms.RandomCrop(32, padding=4),\n",
    "    \ttransforms.RandomHorizontalFlip(),\n",
    "    \ttransforms.ToTensor(),\n",
    "    \ttransforms.Normalize((0.4914, 0.4822, 0.4465), (0.2023, 0.1994, 0.2010)),\n",
    "\t\t])\n",
    "\n",
    "\ttransform_test = transforms.Compose([\n",
    "    \ttransforms.ToTensor(),\n",
    "    \ttransforms.Normalize((0.4914, 0.4822, 0.4465), (0.2023, 0.1994, 0.2010)),\n",
    "\t\t])\n",
    "\n",
    "\ttrainset = torchvision.datasets.CIFAR10(root='./data', train=True, download=True, transform=transform_train)\n",
    "\ttrainloader = torch.utils.data.DataLoader(trainset, batch_size=128, shuffle=True, num_workers=2)\n",
    "\n",
    "\ttestset = torchvision.datasets.CIFAR10(root='./data', train=False, download=True, transform=transform_test)\n",
    "\ttestloader = torch.utils.data.DataLoader(testset, batch_size=100, shuffle=False, num_workers=2)\n",
    "\n",
    "\tclasses = ('plane', 'car', 'bird', 'cat', 'deer', 'dog', 'frog', 'horse', 'ship', 'truck')\n",
    "\n",
    "\treturn trainloader, testloader"
   ]
  },
  {
   "cell_type": "code",
   "execution_count": null,
   "metadata": {
    "colab": {},
    "colab_type": "code",
    "id": "nRiuRksQp5yl"
   },
   "outputs": [],
   "source": [
    "def test(model, criterion, testloader, attacker):\n",
    "    \n",
    "    correct, correct_adv, total = 0.0, 0.0, 0.0\n",
    "\n",
    "    for data in testloader:\n",
    "        inputs, labels = data\n",
    "        inputs = Variable((inputs.cuda() if use_cuda else inputs), requires_grad=True)\n",
    "        labels = Variable((labels.cuda() if use_cuda else labels), requires_grad=False)\n",
    "\n",
    "        y_hat = model(inputs)\n",
    "        loss = criterion(y_hat, labels)\n",
    "        loss.backward()\n",
    "\n",
    "        predicted = torch.max(y_hat.data, 1)[1]\n",
    "        correct += predicted.eq(labels.data).sum().item()\n",
    "\n",
    "        adv_inputs, adv_labels, num_unperturbed = attacker.attack(inputs, labels, model)\n",
    "        correct_adv += num_unperturbed.item()\n",
    "\n",
    "        total += labels.size(0)\n",
    "\n",
    "       \n",
    "\n",
    "    return correct/total, correct_adv/total\n",
    "\n"
   ]
  },
  {
   "cell_type": "code",
   "execution_count": null,
   "metadata": {
    "colab": {},
    "colab_type": "code",
    "id": "MDluyfEopJzW"
   },
   "outputs": [],
   "source": [
    "def test_epsilon(model, criterion, testloader, attacker, model_name, att_name):\n",
    "    epsilons = [0.0,0.2,0.4,0.6,0.8,1.0]\n",
    "    resultsDF = pd.DataFrame(columns=('Model','Attacker','Epsilon','Test_acc','Test_att_acc'))\n",
    "    name = model_name\n",
    "    global i\n",
    "    for epsilon in epsilons:\n",
    "        correct, correct_adv, total = 0.0, 0.0, 0.0\n",
    "        for data in testloader:\n",
    "            inputs, labels = data\n",
    "            inputs = Variable((inputs.cuda() if use_cuda else inputs), requires_grad=True)\n",
    "            labels = Variable((labels.cuda() if use_cuda else labels), requires_grad=False)\n",
    "            \n",
    "            y_hat = model(inputs)\n",
    "            loss = criterion(y_hat, labels)\n",
    "            loss.backward()\n",
    "\n",
    "            predicted = torch.max(y_hat.data, 1)[1]\n",
    "            correct += predicted.eq(labels.data).sum().item()\n",
    "\n",
    "            _, adv_labels, num_unperturbed = attacker.attack(inputs,labels, model, epsilon)\n",
    "            adv_inputs  = attacker.perturb(inputs,epsilon=epsilon)\n",
    "            correct_adv += num_unperturbed.item()\n",
    "\n",
    "            total += labels.size(0)\n",
    "\n",
    "        fake = adv_inputs\n",
    "        samples_name = 'images/'+name+str(epsilon) +'_samples.png'\n",
    "        vutils.save_image(fake.data, samples_name, normalize = True)\n",
    "        print('Test Acc Acc: %.4f | Test Attacked Acc: %.4f | Epsilon: %.2f'  % (100.*correct/total, 100.*correct_adv/total,epsilon))\n",
    "        resultsDF.loc[i] = [model_name,att_name,epsilon,correct/total,correct_adv/total]\n",
    "        i = i + 1\n",
    "    resultsDF.to_csv('DCGAN_attack_results.csv',mode='a',header=(not os.path.exists('DCGAN_attack_results.csv')))\n",
    "\n",
    "\n",
    "    return correct/total, correct_adv/total"
   ]
  },
  {
   "cell_type": "code",
   "execution_count": null,
   "metadata": {
    "colab": {},
    "colab_type": "code",
    "id": "piyEJxFVLMX-"
   },
   "outputs": [],
   "source": [
    "weights = {\n",
    "    'lenet':\n",
    "    ['target/lenet.pth','attacker/lenet_attacker.pth'],\n",
    "    'VGG16': ['target/VGG16.pth','attacker/VGG16_attacker.pth'],\n",
    "    'googlenet':\n",
    "    ['target/googlenet.pth','attacker/googlenet_attacker.pth']\n",
    "    \n",
    "    }"
   ]
  },
  {
   "cell_type": "code",
   "execution_count": null,
   "metadata": {
    "colab": {
     "base_uri": "https://localhost:8080/",
     "height": 445
    },
    "colab_type": "code",
    "executionInfo": {
     "elapsed": 14042,
     "status": "error",
     "timestamp": 1567681736102,
     "user": {
      "displayName": "surya k",
      "photoUrl": "",
      "userId": "11275555788083838155"
     },
     "user_tz": -330
    },
    "id": "zcNa4RbBZxrM",
    "outputId": "97ca56a2-c469-4e7b-9def-d78affe7f0e4"
   },
   "outputs": [],
   "source": [
    "criterion = nn.CrossEntropyLoss()\n",
    "for m in weights.keys():\n",
    "    for n in weights.keys():\n",
    "        if (m==n): # white box attack\n",
    "            target_architectures = {\n",
    "                                'lenet': LeNet,\n",
    "                                'VGG16': VGG,    \n",
    "                                'googlenet': googlenet.GoogLeNet\n",
    "                            }\n",
    "            _,testloader = load_cifar()\n",
    "            model = target_architectures[n]()\n",
    "            model.cuda()\n",
    "            model = torch.nn.DataParallel(model, device_ids=range(torch.cuda.device_count()))\n",
    "            model.load_state_dict(torch.load(weights[n][0]))\n",
    "            attacker = attacks.DCGAN(train_adv=False)\n",
    "            attacker.load(weights[m][1])\n",
    "            print(\"Classifier (target): \" +  n + \", Generator (attacker): \" + m)\n",
    "            test_acc, test_adv_acc = test_epsilon(model, criterion, testloader, attacker,n,m)\n",
    "\n",
    "            \n",
    "            "
   ]
  },
  {
   "cell_type": "code",
   "execution_count": null,
   "metadata": {
    "colab": {},
    "colab_type": "code",
    "id": "D7wgunp5kFUD"
   },
   "outputs": [],
   "source": []
  }
 ],
 "metadata": {
  "accelerator": "GPU",
  "colab": {
   "collapsed_sections": [],
   "name": "test.ipynb",
   "provenance": [],
   "version": "0.3.2"
  },
  "kernelspec": {
   "display_name": "Python 3",
   "language": "python",
   "name": "python3"
  },
  "language_info": {
   "codemirror_mode": {
    "name": "ipython",
    "version": 3
   },
   "file_extension": ".py",
   "mimetype": "text/x-python",
   "name": "python",
   "nbconvert_exporter": "python",
   "pygments_lexer": "ipython3",
   "version": "3.6.8"
  }
 },
 "nbformat": 4,
 "nbformat_minor": 1
}
