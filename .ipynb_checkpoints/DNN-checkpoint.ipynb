{
 "cells": [
  {
   "cell_type": "code",
   "execution_count": 0,
   "metadata": {
    "colab": {},
    "colab_type": "code",
    "id": "13l0p_YzyCoa"
   },
   "outputs": [],
   "source": [
    "import torch\n",
    "import torchvision\n",
    "import torchvision.transforms as transforms\n",
    "import torchvision.utils as vutils\n",
    "from torch.autograd import Variable\n",
    "import torch.nn as nn\n",
    "import torch.nn.functional as F\n",
    "import torch.optim as optim\n",
    "import torch.backends.cudnn as cudnn\n",
    "from models.vgg import VGG\n",
    "from models.lenet import LeNet\n",
    "import models.googlenet as googlenet\n",
    "import attacks\n",
    "import numpy as np\n",
    "import os"
   ]
  },
  {
   "cell_type": "code",
   "execution_count": 0,
   "metadata": {
    "colab": {},
    "colab_type": "code",
    "id": "30PGeezkzNdQ"
   },
   "outputs": [],
   "source": [
    "use_cuda = torch.cuda.is_available()\n",
    "i = 0 # Epsilon counter for logging"
   ]
  },
  {
   "cell_type": "code",
   "execution_count": 0,
   "metadata": {
    "colab": {},
    "colab_type": "code",
    "id": "LCB2FC2IzeL1"
   },
   "outputs": [],
   "source": [
    "def load_cifar():\n",
    "\tprint('==> Preparing data..')\n",
    "\ttransform_train = transforms.Compose([\n",
    "    \ttransforms.RandomCrop(32, padding=4),\n",
    "    \ttransforms.RandomHorizontalFlip(),\n",
    "    \ttransforms.ToTensor(),\n",
    "    \ttransforms.Normalize((0.4914, 0.4822, 0.4465), (0.2023, 0.1994, 0.2010)),\n",
    "\t\t])\n",
    "\n",
    "\ttransform_test = transforms.Compose([\n",
    "    \ttransforms.ToTensor(),\n",
    "    \ttransforms.Normalize((0.4914, 0.4822, 0.4465), (0.2023, 0.1994, 0.2010)),\n",
    "\t\t])\n",
    "\n",
    "\ttrainset = torchvision.datasets.CIFAR10(root='./data', train=True, download=True, transform=transform_train)\n",
    "\ttrainloader = torch.utils.data.DataLoader(trainset, batch_size=128, shuffle=True, num_workers=2)\n",
    "\n",
    "\ttestset = torchvision.datasets.CIFAR10(root='./data', train=False, download=True, transform=transform_test)\n",
    "\ttestloader = torch.utils.data.DataLoader(testset, batch_size=100, shuffle=False, num_workers=2)\n",
    "\n",
    "\tclasses = ('plane', 'car', 'bird', 'cat', 'deer', 'dog', 'frog', 'horse', 'ship', 'truck')\n",
    "\n",
    "\treturn trainloader, testloader"
   ]
  },
  {
   "cell_type": "code",
   "execution_count": 0,
   "metadata": {
    "colab": {},
    "colab_type": "code",
    "id": "odLpUoNa1GpY"
   },
   "outputs": [],
   "source": [
    "def train(model, optimizer, criterion, trainloader, architecture, attacker=None, num_epochs=25, freq=10):\n",
    "    for epoch in range(num_epochs):\n",
    "        running_loss = 0.0\n",
    "        total, correct, correct_adv, total_adv  = 0.0, 0.0, 0.0, 1.0\n",
    "\n",
    "        for i, data in enumerate(trainloader):\n",
    "            inputs, labels = data\n",
    "            inputs = Variable((inputs.cuda() if use_cuda else inputs), requires_grad=True)\n",
    "            labels = Variable((labels.cuda() if use_cuda else labels), requires_grad=False)\n",
    "\n",
    "            y_hat = model(inputs)\n",
    "            loss = criterion(y_hat, labels)\n",
    "\n",
    "            optimizer.zero_grad()\n",
    "            loss.backward()\n",
    "            optimizer.step()\n",
    "\n",
    "            _, predicted = y_hat.max(1)\n",
    "            total += labels.size(0)\n",
    "            correct += predicted.eq(labels.data).sum().item()\n",
    "\n",
    "\t\t\t# print statistics\n",
    "            running_loss += loss.item()\n",
    "\n",
    "            if attacker :\n",
    "                adv_inputs, adv_labels, num_unperturbed = attacker.attack(inputs, labels, model, optimizer)\n",
    "                correct_adv += num_unperturbed.item()\n",
    "                total_adv += labels.size(0)\n",
    "\n",
    "            if (i+1) % freq == 0:\n",
    "                print ('[%s: %d, %5d] loss: %.4f' % (architecture,epoch + 1, i + 1, running_loss / 2), correct/total, correct_adv/total_adv)\n",
    "                running_loss = 0.0\n",
    "\n",
    "\n",
    "    return correct/total, correct_adv/total_adv"
   ]
  },
  {
   "cell_type": "code",
   "execution_count": 0,
   "metadata": {
    "colab": {},
    "colab_type": "code",
    "id": "dhVDRD7l1xf5"
   },
   "outputs": [],
   "source": [
    "def prep(model):\n",
    "\tif model and use_cuda:\n",
    "\t\tmodel.cuda()\n",
    "\t\tmodel = torch.nn.DataParallel(model, device_ids=range(torch.cuda.device_count()))\n",
    "\t\tcudnn.benchmark = True\n",
    "\treturn model"
   ]
  },
  {
   "cell_type": "code",
   "execution_count": null,
   "metadata": {
    "colab": {
     "base_uri": "https://localhost:8080/",
     "height": 1000
    },
    "colab_type": "code",
    "executionInfo": {
     "elapsed": 121202,
     "status": "error",
     "timestamp": 1567679378869,
     "user": {
      "displayName": "surya k",
      "photoUrl": "",
      "userId": "11275555788083838155"
     },
     "user_tz": -330
    },
    "id": "G0tzOhMx12jL",
    "outputId": "d488f118-7015-43c7-84f5-a8c5ad8104c0"
   },
   "outputs": [],
   "source": [
    "trainloader, testloader = load_cifar()\n",
    "criterion = nn.CrossEntropyLoss()\n",
    "do_train = True\n",
    "# use the models that you want to train. If you have a powerful enough GPU, you can fit models like GoogLeNet and DenseNet121\n",
    "# model, model name , epochs\n",
    "architectures = [\n",
    "\t\t(LeNet, 'lenet', 1),\n",
    "        (VGG, 'VGG16', 50),\n",
    "\t\t(googlenet.GoogLeNet, 'googlenet', 200),\t\n",
    "\t]\n",
    "\n",
    "for init_func, name, epochs in architectures:\n",
    "\tfor tr_adv in [False,True]:\n",
    "\t\tprint (name, tr_adv)\n",
    "\t\tmodel = prep(init_func())\n",
    "\t\tattacker = attacks.DCGAN(train_adv=tr_adv)\n",
    "\t\t#attacker = None\n",
    "\n",
    "\t\toptimizer = optim.Adam(model.parameters(), lr=1e-4)\n",
    "\t\tif do_train:\n",
    "\t\t\ttrain_acc, train_adv_acc = train(model, optimizer,criterion, trainloader, name, attacker, num_epochs=epochs)\n",
    "\t\t\tsuffix = '_AT' if tr_adv else ''\n",
    "\t\t\tif attacker :\n",
    "\t\t\t\tattacker.save('attacker/{0}{1}_attacker.pth'.format(name, suffix))\n",
    "\t\t\ttorch.save(model.state_dict(),'target/{0}{1}.pth'.format(name, suffix))\n",
    "\t\t"
   ]
  },
  {
   "cell_type": "code",
   "execution_count": 0,
   "metadata": {
    "colab": {},
    "colab_type": "code",
    "id": "siJF5ZP-2dZ9"
   },
   "outputs": [],
   "source": []
  }
 ],
 "metadata": {
  "accelerator": "GPU",
  "colab": {
   "collapsed_sections": [],
   "name": "DNN.ipynb",
   "provenance": [],
   "version": "0.3.2"
  },
  "kernelspec": {
   "display_name": "Python 3",
   "language": "python",
   "name": "python3"
  },
  "language_info": {
   "codemirror_mode": {
    "name": "ipython",
    "version": 3
   },
   "file_extension": ".py",
   "mimetype": "text/x-python",
   "name": "python",
   "nbconvert_exporter": "python",
   "pygments_lexer": "ipython3",
   "version": "3.6.8"
  }
 },
 "nbformat": 4,
 "nbformat_minor": 1
}
